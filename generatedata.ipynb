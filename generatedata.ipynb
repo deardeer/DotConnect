{
 "cells": [
  {
   "cell_type": "code",
   "execution_count": 115,
   "metadata": {
    "collapsed": true
   },
   "outputs": [],
   "source": [
    "import pandas as pd\n",
    "import math\n",
    "import random\n",
    "import numpy as np"
   ]
  },
  {
   "cell_type": "code",
   "execution_count": 118,
   "metadata": {
    "collapsed": false
   },
   "outputs": [
    {
     "name": "stdout",
     "output_type": "stream",
     "text": [
      "['class', 'x_0', 'y_0', 'x_1', 'y_1', 'x_2', 'y_2', 'x_3', 'y_3', 'x_4', 'y_4']\n"
     ]
    }
   ],
   "source": [
    "#random\n",
    "index = 0\n",
    "column = []\n",
    "liRow = []\n",
    "timeStep = 5\n",
    "valueRange = 10\n",
    "classNum = 10\n",
    "dotNum = 40\n",
    "column = ['class']\n",
    "for i in range(timeStep):\n",
    "    column += ['x_' + str(i), 'y_' + str(i)]\n",
    "print(column)\n",
    "for dotIndex in range(dotNum):\n",
    "    row = ['class_' + str(random.randint(0, classNum))]\n",
    "    for i in range(timeStep):\n",
    "        x = random.random() * valueRange\n",
    "        y = random.random() * valueRange\n",
    "        row += [x, y]\n",
    "    liRow.append(row)\n",
    "    index += 1"
   ]
  },
  {
   "cell_type": "code",
   "execution_count": 119,
   "metadata": {
    "collapsed": false
   },
   "outputs": [],
   "source": [
    "df = pd.DataFrame(columns=column, data=liRow)\n",
    "set(df['class'])\n",
    "df.to_csv(\"data.csv\", index=None)"
   ]
  },
  {
   "cell_type": "code",
   "execution_count": 95,
   "metadata": {
    "collapsed": false
   },
   "outputs": [],
   "source": [
    "df.to_csv('data.csv', index=None)"
   ]
  },
  {
   "cell_type": "code",
   "execution_count": 136,
   "metadata": {
    "collapsed": false
   },
   "outputs": [
    {
     "name": "stdout",
     "output_type": "stream",
     "text": [
      "['class', 'x_0', 'y_0', 'x_1', 'y_1', 'x_2', 'y_2', 'x_3', 'y_3', 'x_4', 'y_4']\n"
     ]
    }
   ],
   "source": [
    "#random\n",
    "index = 0\n",
    "column = []\n",
    "liRow = []\n",
    "timeStep = 5\n",
    "valueRange = 10\n",
    "classNum = 2\n",
    "dotNum = 40\n",
    "column = ['class']\n",
    "rangeScale = 0.1\n",
    "for i in range(timeStep):\n",
    "    column += ['x_' + str(i), 'y_' + str(i)]\n",
    "print(column)\n",
    "\n",
    "for dotIndex in range(dotNum):\n",
    "    classId = random.randint(0, classNum - 1)\n",
    "    row = ['class_' + str(classId)]\n",
    "    for i in range(timeStep):\n",
    "        if(classId == 0):\n",
    "            if(i%2 == 1):\n",
    "                x = random.random() * (valueRange * rangeScale)\n",
    "                y = random.random() * (valueRange * rangeScale)\n",
    "            else:\n",
    "                x = (valueRange * 0.25) + random.random() * (valueRange * rangeScale)\n",
    "                y = (valueRange * 0.25) + random.random() * (valueRange * rangeScale)\n",
    "        else:\n",
    "            if(i%2 == 0):\n",
    "                x = random.random() * (valueRange * rangeScale)\n",
    "                y = (valueRange * 0.25) + random.random() * (valueRange * rangeScale)\n",
    "            else:\n",
    "                x = (valueRange * 0.25) + random.random() * (valueRange *rangeScale)\n",
    "                y = random.random() * (valueRange * rangeScale)\n",
    "            \n",
    "        row += [x, y]\n",
    "    liRow.append(row)\n",
    "    index += 1"
   ]
  },
  {
   "cell_type": "code",
   "execution_count": 137,
   "metadata": {
    "collapsed": true
   },
   "outputs": [],
   "source": [
    "df = pd.DataFrame(columns=column, data=liRow)\n",
    "set(df['class'])\n",
    "df.to_csv(\"data_1.csv\", index=None)"
   ]
  },
  {
   "cell_type": "code",
   "execution_count": null,
   "metadata": {
    "collapsed": true
   },
   "outputs": [],
   "source": []
  }
 ],
 "metadata": {
  "kernelspec": {
   "display_name": "Python 3",
   "language": "python",
   "name": "python3"
  },
  "language_info": {
   "codemirror_mode": {
    "name": "ipython",
    "version": 3
   },
   "file_extension": ".py",
   "mimetype": "text/x-python",
   "name": "python",
   "nbconvert_exporter": "python",
   "pygments_lexer": "ipython3",
   "version": "3.5.3"
  }
 },
 "nbformat": 4,
 "nbformat_minor": 2
}
